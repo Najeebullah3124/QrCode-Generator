{
 "cells": [
  {
   "cell_type": "code",
   "execution_count": 4,
   "id": "0ce5f23e",
   "metadata": {},
   "outputs": [
    {
     "name": "stdout",
     "output_type": "stream",
     "text": [
      "The Data To Create The Url : https://chat.openai.com/\n"
     ]
    },
    {
     "data": {
      "image/png": "[encoded data removed]",
      "text/plain": [
       "<qrcode.image.pil.PilImage at 0x16cf87ca1d0>"
      ]
     },
     "execution_count": 4,
     "metadata": {},
     "output_type": "execute_result"
    }
   ],
   "source": [
    "import qrcode as qr\n",
    "def Generateqrcode():\n",
    "    Data=input( \"The Data To Create The Url : \")\n",
    "    img=qr.make(Data)\n",
    "    return img\n",
    "\n",
    "Generateqrcode()"
   ]
  }
 ],
 "metadata": {
  "kernelspec": {
   "display_name": "Python 3 (ipykernel)",
   "language": "python",
   "name": "python3"
  },
  "language_info": {
   "codemirror_mode": {
    "name": "ipython",
    "version": 3
   },
   "file_extension": ".py",
   "mimetype": "text/x-python",
   "name": "python",
   "nbconvert_exporter": "python",
   "pygments_lexer": "ipython3",
   "version": "3.11.4"
  }
 },
 "nbformat": 4,
 "nbformat_minor": 5
}
